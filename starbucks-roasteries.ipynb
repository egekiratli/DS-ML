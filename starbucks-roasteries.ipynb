{
 "cells": [
  {
   "cell_type": "code",
   "execution_count": 1,
   "id": "635f81bc",
   "metadata": {
    "_cell_guid": "b1076dfc-b9ad-4769-8c92-a6c4dae69d19",
    "_uuid": "8f2839f25d086af736a60e9eeb907d3b93b6e0e5",
    "execution": {
     "iopub.execute_input": "2025-06-12T12:12:39.223635Z",
     "iopub.status.busy": "2025-06-12T12:12:39.223236Z",
     "iopub.status.idle": "2025-06-12T12:12:43.165272Z",
     "shell.execute_reply": "2025-06-12T12:12:43.163872Z"
    },
    "papermill": {
     "duration": 3.95059,
     "end_time": "2025-06-12T12:12:43.167121",
     "exception": false,
     "start_time": "2025-06-12T12:12:39.216531",
     "status": "completed"
    },
    "tags": []
   },
   "outputs": [
    {
     "name": "stdout",
     "output_type": "stream",
     "text": [
      "/kaggle/input/ca-county-bounds/CA_county_boundaries.prj\n",
      "/kaggle/input/ca-county-bounds/CA_county_boundaries.dbf\n",
      "/kaggle/input/ca-county-bounds/CA_county_boundaries.shp\n",
      "/kaggle/input/ca-county-bounds/CA_county_boundaries.shx\n",
      "/kaggle/input/ca-county-bounds/CA_county_boundaries.cpg\n",
      "/kaggle/input/ca-county-general/CA_county_median_age.csv\n",
      "/kaggle/input/ca-county-general/CA_county_population.csv\n",
      "/kaggle/input/ca-county-general/CA_county_high_earners.csv\n",
      "/kaggle/input/starbucks-locations/starbucks_locations.csv\n"
     ]
    }
   ],
   "source": [
    "import math\n",
    "import pandas as pd\n",
    "import geopandas as gpd\n",
    "from geopy.geocoders import Nominatim\n",
    "# from learntools.geospatial.tools import Nominatim \n",
    "\n",
    "\n",
    "import folium \n",
    "from folium import Marker\n",
    "from folium.plugins import MarkerCluster\n",
    "\n",
    "import os\n",
    "for dirname, _, filenames in os.walk('/kaggle/input'):\n",
    "    for filename in filenames:\n",
    "        print(os.path.join(dirname, filename))\n"
   ]
  },
  {
   "cell_type": "markdown",
   "id": "584d9fd3",
   "metadata": {
    "papermill": {
     "duration": 0.004281,
     "end_time": "2025-06-12T12:12:43.175891",
     "exception": false,
     "start_time": "2025-06-12T12:12:43.171610",
     "status": "completed"
    },
    "tags": []
   },
   "source": [
    "# Introduction\n",
    "\n",
    "This project involves investigating the demographics of various counties in the state of California, to determine potentially suitable locations for Starbucks Reserve Roasteries."
   ]
  },
  {
   "cell_type": "code",
   "execution_count": 2,
   "id": "9db1bae1",
   "metadata": {
    "execution": {
     "iopub.execute_input": "2025-06-12T12:12:43.187116Z",
     "iopub.status.busy": "2025-06-12T12:12:43.186464Z",
     "iopub.status.idle": "2025-06-12T12:12:43.192733Z",
     "shell.execute_reply": "2025-06-12T12:12:43.191212Z"
    },
    "papermill": {
     "duration": 0.014524,
     "end_time": "2025-06-12T12:12:43.194642",
     "exception": false,
     "start_time": "2025-06-12T12:12:43.180118",
     "status": "completed"
    },
    "tags": []
   },
   "outputs": [],
   "source": [
    "def embed_map(m, file_name):\n",
    "    from IPython.display import IFrame\n",
    "    m.save(file_name)\n",
    "    return IFrame(file_name, width='100%', height='500px')"
   ]
  },
  {
   "cell_type": "code",
   "execution_count": 3,
   "id": "9cdbd632",
   "metadata": {
    "execution": {
     "iopub.execute_input": "2025-06-12T12:12:43.204518Z",
     "iopub.status.busy": "2025-06-12T12:12:43.204168Z",
     "iopub.status.idle": "2025-06-12T12:12:43.267727Z",
     "shell.execute_reply": "2025-06-12T12:12:43.266511Z"
    },
    "papermill": {
     "duration": 0.071714,
     "end_time": "2025-06-12T12:12:43.270622",
     "exception": false,
     "start_time": "2025-06-12T12:12:43.198908",
     "status": "completed"
    },
    "tags": []
   },
   "outputs": [
    {
     "data": {
      "text/html": [
       "<div>\n",
       "<style scoped>\n",
       "    .dataframe tbody tr th:only-of-type {\n",
       "        vertical-align: middle;\n",
       "    }\n",
       "\n",
       "    .dataframe tbody tr th {\n",
       "        vertical-align: top;\n",
       "    }\n",
       "\n",
       "    .dataframe thead th {\n",
       "        text-align: right;\n",
       "    }\n",
       "</style>\n",
       "<table border=\"1\" class=\"dataframe\">\n",
       "  <thead>\n",
       "    <tr style=\"text-align: right;\">\n",
       "      <th></th>\n",
       "      <th>Store Number</th>\n",
       "      <th>Store Name</th>\n",
       "      <th>Address</th>\n",
       "      <th>City</th>\n",
       "      <th>Longitude</th>\n",
       "      <th>Latitude</th>\n",
       "    </tr>\n",
       "  </thead>\n",
       "  <tbody>\n",
       "    <tr>\n",
       "      <th>0</th>\n",
       "      <td>10429-100710</td>\n",
       "      <td>Palmdale &amp; Hwy 395</td>\n",
       "      <td>14136 US Hwy 395 Adelanto CA</td>\n",
       "      <td>Adelanto</td>\n",
       "      <td>-117.40</td>\n",
       "      <td>34.51</td>\n",
       "    </tr>\n",
       "    <tr>\n",
       "      <th>1</th>\n",
       "      <td>635-352</td>\n",
       "      <td>Kanan &amp; Thousand Oaks</td>\n",
       "      <td>5827 Kanan Road Agoura CA</td>\n",
       "      <td>Agoura</td>\n",
       "      <td>-118.76</td>\n",
       "      <td>34.16</td>\n",
       "    </tr>\n",
       "    <tr>\n",
       "      <th>2</th>\n",
       "      <td>74510-27669</td>\n",
       "      <td>Vons-Agoura Hills #2001</td>\n",
       "      <td>5671 Kanan Rd. Agoura Hills CA</td>\n",
       "      <td>Agoura Hills</td>\n",
       "      <td>-118.76</td>\n",
       "      <td>34.15</td>\n",
       "    </tr>\n",
       "    <tr>\n",
       "      <th>3</th>\n",
       "      <td>29839-255026</td>\n",
       "      <td>Target Anaheim T-0677</td>\n",
       "      <td>8148 E SANTA ANA CANYON ROAD AHAHEIM CA</td>\n",
       "      <td>AHAHEIM</td>\n",
       "      <td>-117.75</td>\n",
       "      <td>33.87</td>\n",
       "    </tr>\n",
       "    <tr>\n",
       "      <th>4</th>\n",
       "      <td>23463-230284</td>\n",
       "      <td>Safeway - Alameda 3281</td>\n",
       "      <td>2600 5th Street Alameda CA</td>\n",
       "      <td>Alameda</td>\n",
       "      <td>-122.28</td>\n",
       "      <td>37.79</td>\n",
       "    </tr>\n",
       "  </tbody>\n",
       "</table>\n",
       "</div>"
      ],
      "text/plain": [
       "   Store Number               Store Name  \\\n",
       "0  10429-100710       Palmdale & Hwy 395   \n",
       "1       635-352    Kanan & Thousand Oaks   \n",
       "2   74510-27669  Vons-Agoura Hills #2001   \n",
       "3  29839-255026    Target Anaheim T-0677   \n",
       "4  23463-230284   Safeway - Alameda 3281   \n",
       "\n",
       "                                   Address          City  Longitude  Latitude  \n",
       "0             14136 US Hwy 395 Adelanto CA      Adelanto    -117.40     34.51  \n",
       "1                5827 Kanan Road Agoura CA        Agoura    -118.76     34.16  \n",
       "2           5671 Kanan Rd. Agoura Hills CA  Agoura Hills    -118.76     34.15  \n",
       "3  8148 E SANTA ANA CANYON ROAD AHAHEIM CA       AHAHEIM    -117.75     33.87  \n",
       "4               2600 5th Street Alameda CA       Alameda    -122.28     37.79  "
      ]
     },
     "execution_count": 3,
     "metadata": {},
     "output_type": "execute_result"
    }
   ],
   "source": [
    "# Load and preview Starbucks locations in California\n",
    "starbucks = pd.read_csv('/kaggle/input/starbucks-locations/starbucks_locations.csv')\n",
    "starbucks.head()"
   ]
  },
  {
   "cell_type": "code",
   "execution_count": 4,
   "id": "88a9e6cd",
   "metadata": {
    "execution": {
     "iopub.execute_input": "2025-06-12T12:12:43.282153Z",
     "iopub.status.busy": "2025-06-12T12:12:43.281808Z",
     "iopub.status.idle": "2025-06-12T12:12:43.307882Z",
     "shell.execute_reply": "2025-06-12T12:12:43.306909Z"
    },
    "papermill": {
     "duration": 0.033874,
     "end_time": "2025-06-12T12:12:43.309545",
     "exception": false,
     "start_time": "2025-06-12T12:12:43.275671",
     "status": "completed"
    },
    "tags": []
   },
   "outputs": [
    {
     "name": "stdout",
     "output_type": "stream",
     "text": [
      "Store Number    0\n",
      "Store Name      0\n",
      "Address         0\n",
      "City            0\n",
      "Longitude       5\n",
      "Latitude        5\n",
      "dtype: int64\n"
     ]
    },
    {
     "name": "stderr",
     "output_type": "stream",
     "text": [
      "/usr/local/lib/python3.11/dist-packages/pandas/io/formats/format.py:1458: RuntimeWarning: invalid value encountered in greater\n",
      "  has_large_values = (abs_vals > 1e6).any()\n",
      "/usr/local/lib/python3.11/dist-packages/pandas/io/formats/format.py:1459: RuntimeWarning: invalid value encountered in less\n",
      "  has_small_values = ((abs_vals < 10 ** (-self.digits)) & (abs_vals > 0)).any()\n",
      "/usr/local/lib/python3.11/dist-packages/pandas/io/formats/format.py:1459: RuntimeWarning: invalid value encountered in greater\n",
      "  has_small_values = ((abs_vals < 10 ** (-self.digits)) & (abs_vals > 0)).any()\n"
     ]
    },
    {
     "data": {
      "text/html": [
       "<div>\n",
       "<style scoped>\n",
       "    .dataframe tbody tr th:only-of-type {\n",
       "        vertical-align: middle;\n",
       "    }\n",
       "\n",
       "    .dataframe tbody tr th {\n",
       "        vertical-align: top;\n",
       "    }\n",
       "\n",
       "    .dataframe thead th {\n",
       "        text-align: right;\n",
       "    }\n",
       "</style>\n",
       "<table border=\"1\" class=\"dataframe\">\n",
       "  <thead>\n",
       "    <tr style=\"text-align: right;\">\n",
       "      <th></th>\n",
       "      <th>Store Number</th>\n",
       "      <th>Store Name</th>\n",
       "      <th>Address</th>\n",
       "      <th>City</th>\n",
       "      <th>Longitude</th>\n",
       "      <th>Latitude</th>\n",
       "    </tr>\n",
       "  </thead>\n",
       "  <tbody>\n",
       "    <tr>\n",
       "      <th>153</th>\n",
       "      <td>5406-945</td>\n",
       "      <td>2224 Shattuck - Berkeley</td>\n",
       "      <td>2224 Shattuck Avenue Berkeley CA</td>\n",
       "      <td>Berkeley</td>\n",
       "      <td>NaN</td>\n",
       "      <td>NaN</td>\n",
       "    </tr>\n",
       "    <tr>\n",
       "      <th>154</th>\n",
       "      <td>570-512</td>\n",
       "      <td>Solano Ave</td>\n",
       "      <td>1799 Solano Avenue Berkeley CA</td>\n",
       "      <td>Berkeley</td>\n",
       "      <td>NaN</td>\n",
       "      <td>NaN</td>\n",
       "    </tr>\n",
       "    <tr>\n",
       "      <th>155</th>\n",
       "      <td>17877-164526</td>\n",
       "      <td>Safeway - Berkeley #691</td>\n",
       "      <td>1444 Shattuck Place Berkeley CA</td>\n",
       "      <td>Berkeley</td>\n",
       "      <td>NaN</td>\n",
       "      <td>NaN</td>\n",
       "    </tr>\n",
       "    <tr>\n",
       "      <th>156</th>\n",
       "      <td>19864-202264</td>\n",
       "      <td>Telegraph &amp; Ashby</td>\n",
       "      <td>3001 Telegraph Avenue Berkeley CA</td>\n",
       "      <td>Berkeley</td>\n",
       "      <td>NaN</td>\n",
       "      <td>NaN</td>\n",
       "    </tr>\n",
       "    <tr>\n",
       "      <th>157</th>\n",
       "      <td>9217-9253</td>\n",
       "      <td>2128 Oxford St.</td>\n",
       "      <td>2128 Oxford Street Berkeley CA</td>\n",
       "      <td>Berkeley</td>\n",
       "      <td>NaN</td>\n",
       "      <td>NaN</td>\n",
       "    </tr>\n",
       "  </tbody>\n",
       "</table>\n",
       "</div>"
      ],
      "text/plain": [
       "     Store Number                Store Name  \\\n",
       "153      5406-945  2224 Shattuck - Berkeley   \n",
       "154       570-512                Solano Ave   \n",
       "155  17877-164526   Safeway - Berkeley #691   \n",
       "156  19864-202264         Telegraph & Ashby   \n",
       "157     9217-9253           2128 Oxford St.   \n",
       "\n",
       "                               Address      City  Longitude  Latitude  \n",
       "153   2224 Shattuck Avenue Berkeley CA  Berkeley        NaN       NaN  \n",
       "154     1799 Solano Avenue Berkeley CA  Berkeley        NaN       NaN  \n",
       "155    1444 Shattuck Place Berkeley CA  Berkeley        NaN       NaN  \n",
       "156  3001 Telegraph Avenue Berkeley CA  Berkeley        NaN       NaN  \n",
       "157     2128 Oxford Street Berkeley CA  Berkeley        NaN       NaN  "
      ]
     },
     "execution_count": 4,
     "metadata": {},
     "output_type": "execute_result"
    }
   ],
   "source": [
    "print(starbucks.isnull().sum())\n",
    "\n",
    "# View rows with missing locations\n",
    "rows_with_missing = starbucks[starbucks[\"City\"]==\"Berkeley\"]\n",
    "rows_with_missing"
   ]
  },
  {
   "cell_type": "code",
   "execution_count": 5,
   "id": "fc63ab5e",
   "metadata": {
    "execution": {
     "iopub.execute_input": "2025-06-12T12:12:43.321657Z",
     "iopub.status.busy": "2025-06-12T12:12:43.319944Z",
     "iopub.status.idle": "2025-06-12T12:12:49.410379Z",
     "shell.execute_reply": "2025-06-12T12:12:49.409409Z"
    },
    "papermill": {
     "duration": 6.097983,
     "end_time": "2025-06-12T12:12:49.412228",
     "exception": false,
     "start_time": "2025-06-12T12:12:43.314245",
     "status": "completed"
    },
    "tags": []
   },
   "outputs": [
    {
     "data": {
      "text/html": [
       "<div>\n",
       "<style scoped>\n",
       "    .dataframe tbody tr th:only-of-type {\n",
       "        vertical-align: middle;\n",
       "    }\n",
       "\n",
       "    .dataframe tbody tr th {\n",
       "        vertical-align: top;\n",
       "    }\n",
       "\n",
       "    .dataframe thead th {\n",
       "        text-align: right;\n",
       "    }\n",
       "</style>\n",
       "<table border=\"1\" class=\"dataframe\">\n",
       "  <thead>\n",
       "    <tr style=\"text-align: right;\">\n",
       "      <th></th>\n",
       "      <th>Store Number</th>\n",
       "      <th>Store Name</th>\n",
       "      <th>Address</th>\n",
       "      <th>City</th>\n",
       "      <th>Longitude</th>\n",
       "      <th>Latitude</th>\n",
       "    </tr>\n",
       "  </thead>\n",
       "  <tbody>\n",
       "    <tr>\n",
       "      <th>153</th>\n",
       "      <td>5406-945</td>\n",
       "      <td>2224 Shattuck - Berkeley</td>\n",
       "      <td>2224 Shattuck Avenue Berkeley CA</td>\n",
       "      <td>Berkeley</td>\n",
       "      <td>-122.268230</td>\n",
       "      <td>37.868839</td>\n",
       "    </tr>\n",
       "    <tr>\n",
       "      <th>154</th>\n",
       "      <td>570-512</td>\n",
       "      <td>Solano Ave</td>\n",
       "      <td>1799 Solano Avenue Berkeley CA</td>\n",
       "      <td>Berkeley</td>\n",
       "      <td>-122.280013</td>\n",
       "      <td>37.891477</td>\n",
       "    </tr>\n",
       "    <tr>\n",
       "      <th>155</th>\n",
       "      <td>17877-164526</td>\n",
       "      <td>Safeway - Berkeley #691</td>\n",
       "      <td>1444 Shattuck Place Berkeley CA</td>\n",
       "      <td>Berkeley</td>\n",
       "      <td>-122.269679</td>\n",
       "      <td>37.880907</td>\n",
       "    </tr>\n",
       "    <tr>\n",
       "      <th>156</th>\n",
       "      <td>19864-202264</td>\n",
       "      <td>Telegraph &amp; Ashby</td>\n",
       "      <td>3001 Telegraph Avenue Berkeley CA</td>\n",
       "      <td>Berkeley</td>\n",
       "      <td>-122.259406</td>\n",
       "      <td>37.855903</td>\n",
       "    </tr>\n",
       "    <tr>\n",
       "      <th>157</th>\n",
       "      <td>9217-9253</td>\n",
       "      <td>2128 Oxford St.</td>\n",
       "      <td>2128 Oxford Street Berkeley CA</td>\n",
       "      <td>Berkeley</td>\n",
       "      <td>-122.266095</td>\n",
       "      <td>37.870253</td>\n",
       "    </tr>\n",
       "  </tbody>\n",
       "</table>\n",
       "</div>"
      ],
      "text/plain": [
       "     Store Number                Store Name  \\\n",
       "153      5406-945  2224 Shattuck - Berkeley   \n",
       "154       570-512                Solano Ave   \n",
       "155  17877-164526   Safeway - Berkeley #691   \n",
       "156  19864-202264         Telegraph & Ashby   \n",
       "157     9217-9253           2128 Oxford St.   \n",
       "\n",
       "                               Address      City   Longitude   Latitude  \n",
       "153   2224 Shattuck Avenue Berkeley CA  Berkeley -122.268230  37.868839  \n",
       "154     1799 Solano Avenue Berkeley CA  Berkeley -122.280013  37.891477  \n",
       "155    1444 Shattuck Place Berkeley CA  Berkeley -122.269679  37.880907  \n",
       "156  3001 Telegraph Avenue Berkeley CA  Berkeley -122.259406  37.855903  \n",
       "157     2128 Oxford Street Berkeley CA  Berkeley -122.266095  37.870253  "
      ]
     },
     "execution_count": 5,
     "metadata": {},
     "output_type": "execute_result"
    }
   ],
   "source": [
    "import time\n",
    "\n",
    "# Create the geocoder\n",
    "geolocator = Nominatim(user_agent=\"kaggle_learn\")\n",
    "\n",
    "\n",
    "def geocoder(row):\n",
    "    try:\n",
    "        time.sleep(1)  # Important: prevent Nominatim throttling\n",
    "        point = geolocator.geocode(row).point\n",
    "        return pd.Series({'Latitude': point.latitude, 'Longitude': point.longitude})\n",
    "    except:\n",
    "        return None\n",
    "\n",
    "berkeley_locations = rows_with_missing.apply(lambda x: geocoder(x['Address']), axis=1)\n",
    "starbucks.update(berkeley_locations)\n",
    "starbucks[starbucks[\"City\"]==\"Berkeley\"]"
   ]
  },
  {
   "cell_type": "code",
   "execution_count": 6,
   "id": "1f243ad0",
   "metadata": {
    "execution": {
     "iopub.execute_input": "2025-06-12T12:12:49.424244Z",
     "iopub.status.busy": "2025-06-12T12:12:49.423944Z",
     "iopub.status.idle": "2025-06-12T12:12:49.448867Z",
     "shell.execute_reply": "2025-06-12T12:12:49.447693Z"
    },
    "papermill": {
     "duration": 0.03384,
     "end_time": "2025-06-12T12:12:49.451070",
     "exception": false,
     "start_time": "2025-06-12T12:12:49.417230",
     "status": "completed"
    },
    "tags": []
   },
   "outputs": [
    {
     "data": {
      "text/html": [
       "\n",
       "        <iframe\n",
       "            width=\"100%\"\n",
       "            height=\"500px\"\n",
       "            src=\"q_2.html\"\n",
       "            frameborder=\"0\"\n",
       "            allowfullscreen\n",
       "            \n",
       "        ></iframe>\n",
       "        "
      ],
      "text/plain": [
       "<IPython.lib.display.IFrame at 0x7eb4903d7bd0>"
      ]
     },
     "execution_count": 6,
     "metadata": {},
     "output_type": "execute_result"
    }
   ],
   "source": [
    "# Create a base map\n",
    "m_2 = folium.Map(location=[37.88,-122.26], zoom_start=13)\n",
    "\n",
    "# Your code here: Add a marker for each Berkeley location\n",
    "for idx, row in starbucks[starbucks[\"City\"]=='Berkeley'].iterrows():\n",
    "    Marker([row['Latitude'], row['Longitude']]).add_to(m_2)\n",
    "\n",
    "# Show the map\n",
    "embed_map(m_2, 'q_2.html')"
   ]
  },
  {
   "cell_type": "markdown",
   "id": "740e6280",
   "metadata": {
    "papermill": {
     "duration": 0.00486,
     "end_time": "2025-06-12T12:12:49.461356",
     "exception": false,
     "start_time": "2025-06-12T12:12:49.456496",
     "status": "completed"
    },
    "tags": []
   },
   "source": [
    "### Click to see the map\n",
    "- [Berkeley Starbucks Locations](https://egekiratli.github.io/DS-ML/maps/berkeley-locations.html)\n"
   ]
  },
  {
   "cell_type": "code",
   "execution_count": 7,
   "id": "b9fc6b51",
   "metadata": {
    "execution": {
     "iopub.execute_input": "2025-06-12T12:12:49.473678Z",
     "iopub.status.busy": "2025-06-12T12:12:49.473389Z",
     "iopub.status.idle": "2025-06-12T12:12:50.788873Z",
     "shell.execute_reply": "2025-06-12T12:12:50.787428Z"
    },
    "papermill": {
     "duration": 1.3238,
     "end_time": "2025-06-12T12:12:50.790467",
     "exception": false,
     "start_time": "2025-06-12T12:12:49.466667",
     "status": "completed"
    },
    "tags": []
   },
   "outputs": [
    {
     "name": "stderr",
     "output_type": "stream",
     "text": [
      "/usr/local/lib/python3.11/dist-packages/pyproj/crs/crs.py:143: FutureWarning: '+init=<authority>:<code>' syntax is deprecated. '<authority>:<code>' is the preferred initialization method. When making the change, be mindful of axis order changes: https://pyproj4.github.io/pyproj/stable/gotchas.html#axis-order-changes-in-proj-6\n",
      "  in_crs_string = _prepare_from_proj_string(in_crs_string)\n"
     ]
    },
    {
     "data": {
      "text/html": [
       "<div>\n",
       "<style scoped>\n",
       "    .dataframe tbody tr th:only-of-type {\n",
       "        vertical-align: middle;\n",
       "    }\n",
       "\n",
       "    .dataframe tbody tr th {\n",
       "        vertical-align: top;\n",
       "    }\n",
       "\n",
       "    .dataframe thead th {\n",
       "        text-align: right;\n",
       "    }\n",
       "</style>\n",
       "<table border=\"1\" class=\"dataframe\">\n",
       "  <thead>\n",
       "    <tr style=\"text-align: right;\">\n",
       "      <th></th>\n",
       "      <th>GEOID</th>\n",
       "      <th>name</th>\n",
       "      <th>area_sqkm</th>\n",
       "      <th>geometry</th>\n",
       "    </tr>\n",
       "  </thead>\n",
       "  <tbody>\n",
       "    <tr>\n",
       "      <th>0</th>\n",
       "      <td>6091</td>\n",
       "      <td>Sierra County</td>\n",
       "      <td>2491.995494</td>\n",
       "      <td>POLYGON ((-120.65560 39.69357, -120.65554 39.6...</td>\n",
       "    </tr>\n",
       "    <tr>\n",
       "      <th>1</th>\n",
       "      <td>6067</td>\n",
       "      <td>Sacramento County</td>\n",
       "      <td>2575.258262</td>\n",
       "      <td>POLYGON ((-121.18858 38.71431, -121.18732 38.7...</td>\n",
       "    </tr>\n",
       "    <tr>\n",
       "      <th>2</th>\n",
       "      <td>6083</td>\n",
       "      <td>Santa Barbara County</td>\n",
       "      <td>9813.817958</td>\n",
       "      <td>MULTIPOLYGON (((-120.58191 34.09856, -120.5822...</td>\n",
       "    </tr>\n",
       "    <tr>\n",
       "      <th>3</th>\n",
       "      <td>6009</td>\n",
       "      <td>Calaveras County</td>\n",
       "      <td>2685.626726</td>\n",
       "      <td>POLYGON ((-120.63095 38.34111, -120.63058 38.3...</td>\n",
       "    </tr>\n",
       "    <tr>\n",
       "      <th>4</th>\n",
       "      <td>6111</td>\n",
       "      <td>Ventura County</td>\n",
       "      <td>5719.321379</td>\n",
       "      <td>MULTIPOLYGON (((-119.63631 33.27304, -119.6360...</td>\n",
       "    </tr>\n",
       "  </tbody>\n",
       "</table>\n",
       "</div>"
      ],
      "text/plain": [
       "   GEOID                  name    area_sqkm  \\\n",
       "0   6091         Sierra County  2491.995494   \n",
       "1   6067     Sacramento County  2575.258262   \n",
       "2   6083  Santa Barbara County  9813.817958   \n",
       "3   6009      Calaveras County  2685.626726   \n",
       "4   6111        Ventura County  5719.321379   \n",
       "\n",
       "                                            geometry  \n",
       "0  POLYGON ((-120.65560 39.69357, -120.65554 39.6...  \n",
       "1  POLYGON ((-121.18858 38.71431, -121.18732 38.7...  \n",
       "2  MULTIPOLYGON (((-120.58191 34.09856, -120.5822...  \n",
       "3  POLYGON ((-120.63095 38.34111, -120.63058 38.3...  \n",
       "4  MULTIPOLYGON (((-119.63631 33.27304, -119.6360...  "
      ]
     },
     "execution_count": 7,
     "metadata": {},
     "output_type": "execute_result"
    }
   ],
   "source": [
    "CA_counties = gpd.read_file(\"/kaggle/input/ca-county-bounds/CA_county_boundaries.shp\")\n",
    "CA_counties.crs = {'init': 'epsg:4326'}\n",
    "CA_counties.head()"
   ]
  },
  {
   "cell_type": "markdown",
   "id": "f1c28c1c",
   "metadata": {
    "papermill": {
     "duration": 0.004696,
     "end_time": "2025-06-12T12:12:50.800278",
     "exception": false,
     "start_time": "2025-06-12T12:12:50.795582",
     "status": "completed"
    },
    "tags": []
   },
   "source": [
    "- `CA_pop` contains an estimate of the population of each county.\n",
    "- `CA_high_earners` contains the number of households with an income of at least $150,000 per year.\n",
    "- `CA_median_age` contains the median age for each county."
   ]
  },
  {
   "cell_type": "code",
   "execution_count": 8,
   "id": "0de35c4b",
   "metadata": {
    "execution": {
     "iopub.execute_input": "2025-06-12T12:12:50.812371Z",
     "iopub.status.busy": "2025-06-12T12:12:50.812071Z",
     "iopub.status.idle": "2025-06-12T12:12:50.840869Z",
     "shell.execute_reply": "2025-06-12T12:12:50.839724Z"
    },
    "papermill": {
     "duration": 0.036726,
     "end_time": "2025-06-12T12:12:50.842762",
     "exception": false,
     "start_time": "2025-06-12T12:12:50.806036",
     "status": "completed"
    },
    "tags": []
   },
   "outputs": [],
   "source": [
    "CA_pop = pd.read_csv(\"/kaggle/input/ca-county-general/CA_county_population.csv\", index_col=\"GEOID\")\n",
    "CA_high_earners = pd.read_csv(\"/kaggle/input/ca-county-general/CA_county_high_earners.csv\", index_col=\"GEOID\")\n",
    "CA_median_age = pd.read_csv(\"/kaggle/input/ca-county-general/CA_county_median_age.csv\", index_col=\"GEOID\")"
   ]
  },
  {
   "cell_type": "code",
   "execution_count": 9,
   "id": "c6733418",
   "metadata": {
    "execution": {
     "iopub.execute_input": "2025-06-12T12:12:50.854762Z",
     "iopub.status.busy": "2025-06-12T12:12:50.854301Z",
     "iopub.status.idle": "2025-06-12T12:12:50.870034Z",
     "shell.execute_reply": "2025-06-12T12:12:50.869074Z"
    },
    "papermill": {
     "duration": 0.023388,
     "end_time": "2025-06-12T12:12:50.871684",
     "exception": false,
     "start_time": "2025-06-12T12:12:50.848296",
     "status": "completed"
    },
    "tags": []
   },
   "outputs": [],
   "source": [
    "# Join `CA_counties` with `CA_pop`, `CA_high_earners`, and `CA_median_age`.\n",
    "cols_to_add = CA_pop.join([CA_high_earners, CA_median_age]).reset_index()\n",
    "CA_stats = CA_counties.merge(cols_to_add, on=\"GEOID\")"
   ]
  },
  {
   "cell_type": "code",
   "execution_count": 10,
   "id": "5551e178",
   "metadata": {
    "execution": {
     "iopub.execute_input": "2025-06-12T12:12:50.884686Z",
     "iopub.status.busy": "2025-06-12T12:12:50.883675Z",
     "iopub.status.idle": "2025-06-12T12:12:50.890436Z",
     "shell.execute_reply": "2025-06-12T12:12:50.889354Z"
    },
    "papermill": {
     "duration": 0.015413,
     "end_time": "2025-06-12T12:12:50.892275",
     "exception": false,
     "start_time": "2025-06-12T12:12:50.876862",
     "status": "completed"
    },
    "tags": []
   },
   "outputs": [],
   "source": [
    "# Create a \"density\" column with the population density.\n",
    "CA_stats[\"density\"] = CA_stats[\"population\"] / CA_stats[\"area_sqkm\"]"
   ]
  },
  {
   "cell_type": "markdown",
   "id": "22599603",
   "metadata": {
    "papermill": {
     "duration": 0.005285,
     "end_time": "2025-06-12T12:12:50.902655",
     "exception": false,
     "start_time": "2025-06-12T12:12:50.897370",
     "status": "completed"
    },
    "tags": []
   },
   "source": [
    "Select counties where:\n",
    "- there are at least 100,000 households making \\$150,000 per year,\n",
    "- the median age is less than 38.5, and\n",
    "- the density of inhabitants is at least 285 (per square kilometer).\n",
    "\n",
    "Additionally, selected counties should satisfy at least one of the following criteria:\n",
    "- there are at least 500,000 households making \\$150,000 per year,\n",
    "- the median age is less than 35.5, or\n",
    "- the density of inhabitants is at least 1400 (per square kilometer)."
   ]
  },
  {
   "cell_type": "code",
   "execution_count": 11,
   "id": "3e58997a",
   "metadata": {
    "execution": {
     "iopub.execute_input": "2025-06-12T12:12:50.916254Z",
     "iopub.status.busy": "2025-06-12T12:12:50.915940Z",
     "iopub.status.idle": "2025-06-12T12:12:50.924648Z",
     "shell.execute_reply": "2025-06-12T12:12:50.923562Z"
    },
    "papermill": {
     "duration": 0.018281,
     "end_time": "2025-06-12T12:12:50.926585",
     "exception": false,
     "start_time": "2025-06-12T12:12:50.908304",
     "status": "completed"
    },
    "tags": []
   },
   "outputs": [],
   "source": [
    "sel_counties = sel_counties = CA_stats[((CA_stats.high_earners > 100000) &\n",
    "                         (CA_stats.median_age < 38.5) &\n",
    "                         (CA_stats.density > 285) &\n",
    "                         ((CA_stats.median_age < 35.5) |\n",
    "                         (CA_stats.density > 1400) |\n",
    "                         (CA_stats.high_earners > 500000)))]"
   ]
  },
  {
   "cell_type": "code",
   "execution_count": 12,
   "id": "aef79237",
   "metadata": {
    "execution": {
     "iopub.execute_input": "2025-06-12T12:12:50.938291Z",
     "iopub.status.busy": "2025-06-12T12:12:50.937693Z",
     "iopub.status.idle": "2025-06-12T12:12:50.949184Z",
     "shell.execute_reply": "2025-06-12T12:12:50.947894Z"
    },
    "papermill": {
     "duration": 0.019402,
     "end_time": "2025-06-12T12:12:50.950940",
     "exception": false,
     "start_time": "2025-06-12T12:12:50.931538",
     "status": "completed"
    },
    "tags": []
   },
   "outputs": [
    {
     "name": "stderr",
     "output_type": "stream",
     "text": [
      "/usr/local/lib/python3.11/dist-packages/pyproj/crs/crs.py:143: FutureWarning: '+init=<authority>:<code>' syntax is deprecated. '<authority>:<code>' is the preferred initialization method. When making the change, be mindful of axis order changes: https://pyproj4.github.io/pyproj/stable/gotchas.html#axis-order-changes-in-proj-6\n",
      "  in_crs_string = _prepare_from_proj_string(in_crs_string)\n"
     ]
    }
   ],
   "source": [
    "starbucks_gdf = gpd.GeoDataFrame(starbucks, geometry=gpd.points_from_xy(starbucks.Longitude, starbucks.Latitude))\n",
    "starbucks_gdf.crs = {'init': 'epsg:4326'}"
   ]
  },
  {
   "cell_type": "code",
   "execution_count": 13,
   "id": "93911fca",
   "metadata": {
    "execution": {
     "iopub.execute_input": "2025-06-12T12:12:50.965054Z",
     "iopub.status.busy": "2025-06-12T12:12:50.964371Z",
     "iopub.status.idle": "2025-06-12T12:12:51.047269Z",
     "shell.execute_reply": "2025-06-12T12:12:51.045913Z"
    },
    "papermill": {
     "duration": 0.092165,
     "end_time": "2025-06-12T12:12:51.049067",
     "exception": false,
     "start_time": "2025-06-12T12:12:50.956902",
     "status": "completed"
    },
    "tags": []
   },
   "outputs": [],
   "source": [
    "locations_of_interest = gpd.sjoin(starbucks_gdf, sel_counties)\n",
    "num_stores = len(locations_of_interest)"
   ]
  },
  {
   "cell_type": "markdown",
   "id": "a92f533f",
   "metadata": {
    "papermill": {
     "duration": 0.004573,
     "end_time": "2025-06-12T12:12:51.058736",
     "exception": false,
     "start_time": "2025-06-12T12:12:51.054163",
     "status": "completed"
    },
    "tags": []
   },
   "source": [
    "### Visualize the possible locations for the New store"
   ]
  },
  {
   "cell_type": "code",
   "execution_count": 14,
   "id": "812aacb2",
   "metadata": {
    "execution": {
     "iopub.execute_input": "2025-06-12T12:12:51.069658Z",
     "iopub.status.busy": "2025-06-12T12:12:51.069347Z",
     "iopub.status.idle": "2025-06-12T12:12:51.801647Z",
     "shell.execute_reply": "2025-06-12T12:12:51.800655Z"
    },
    "papermill": {
     "duration": 0.739921,
     "end_time": "2025-06-12T12:12:51.803473",
     "exception": false,
     "start_time": "2025-06-12T12:12:51.063552",
     "status": "completed"
    },
    "tags": []
   },
   "outputs": [
    {
     "data": {
      "text/html": [
       "\n",
       "        <iframe\n",
       "            width=\"100%\"\n",
       "            height=\"500px\"\n",
       "            src=\"q_6.html\"\n",
       "            frameborder=\"0\"\n",
       "            allowfullscreen\n",
       "            \n",
       "        ></iframe>\n",
       "        "
      ],
      "text/plain": [
       "<IPython.lib.display.IFrame at 0x7eb48c86eb10>"
      ]
     },
     "execution_count": 14,
     "metadata": {},
     "output_type": "execute_result"
    }
   ],
   "source": [
    "# Create a base map\n",
    "m_6 = folium.Map(location=[37,-120], zoom_start=6)\n",
    "\n",
    "# Show selected store locations\n",
    "mc = MarkerCluster()\n",
    "\n",
    "locations_of_interest = gpd.sjoin(starbucks_gdf, sel_counties)\n",
    "for idx, row in locations_of_interest.iterrows():\n",
    "    if not math.isnan(row['Longitude']) and not math.isnan(row['Latitude']):\n",
    "        mc.add_child(folium.Marker([row['Latitude'], row['Longitude']]))\n",
    "        \n",
    "m_6.add_child(mc)\n",
    "\n",
    "# Show the map\n",
    "embed_map(m_6, 'q_6.html')"
   ]
  },
  {
   "cell_type": "markdown",
   "id": "405c568e",
   "metadata": {
    "papermill": {
     "duration": 0.004788,
     "end_time": "2025-06-12T12:12:51.813511",
     "exception": false,
     "start_time": "2025-06-12T12:12:51.808723",
     "status": "completed"
    },
    "tags": []
   },
   "source": [
    "### Click to see the map\n",
    "- [Possible New Locations](https://egekiratli.github.io/DS-ML/maps/possible-locations.html)\n"
   ]
  },
  {
   "cell_type": "code",
   "execution_count": 15,
   "id": "7cd954cc",
   "metadata": {
    "execution": {
     "iopub.execute_input": "2025-06-12T12:12:51.825746Z",
     "iopub.status.busy": "2025-06-12T12:12:51.825339Z",
     "iopub.status.idle": "2025-06-12T12:12:52.310874Z",
     "shell.execute_reply": "2025-06-12T12:12:52.309812Z"
    },
    "papermill": {
     "duration": 0.494194,
     "end_time": "2025-06-12T12:12:52.312649",
     "exception": false,
     "start_time": "2025-06-12T12:12:51.818455",
     "status": "completed"
    },
    "tags": []
   },
   "outputs": [],
   "source": [
    "m_2.save(\"berkeley-locations.html\")\n",
    "m_6.save(\"possible-locations.html\")"
   ]
  }
 ],
 "metadata": {
  "kaggle": {
   "accelerator": "none",
   "dataSources": [
    {
     "datasetId": 7626135,
     "sourceId": 12112460,
     "sourceType": "datasetVersion"
    },
    {
     "datasetId": 7626146,
     "sourceId": 12112481,
     "sourceType": "datasetVersion"
    },
    {
     "datasetId": 7645379,
     "sourceId": 12139724,
     "sourceType": "datasetVersion"
    }
   ],
   "dockerImageVersionId": 31040,
   "isGpuEnabled": false,
   "isInternetEnabled": true,
   "language": "python",
   "sourceType": "notebook"
  },
  "kernelspec": {
   "display_name": "Python 3",
   "language": "python",
   "name": "python3"
  },
  "language_info": {
   "codemirror_mode": {
    "name": "ipython",
    "version": 3
   },
   "file_extension": ".py",
   "mimetype": "text/x-python",
   "name": "python",
   "nbconvert_exporter": "python",
   "pygments_lexer": "ipython3",
   "version": "3.11.11"
  },
  "papermill": {
   "default_parameters": {},
   "duration": 19.330869,
   "end_time": "2025-06-12T12:12:53.039882",
   "environment_variables": {},
   "exception": null,
   "input_path": "__notebook__.ipynb",
   "output_path": "__notebook__.ipynb",
   "parameters": {},
   "start_time": "2025-06-12T12:12:33.709013",
   "version": "2.6.0"
  }
 },
 "nbformat": 4,
 "nbformat_minor": 5
}
