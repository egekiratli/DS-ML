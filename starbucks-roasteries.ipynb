{
 "cells": [
  {
   "cell_type": "code",
   "execution_count": 1,
   "id": "dca843cf",
   "metadata": {
    "_cell_guid": "b1076dfc-b9ad-4769-8c92-a6c4dae69d19",
    "_uuid": "8f2839f25d086af736a60e9eeb907d3b93b6e0e5",
    "execution": {
     "iopub.execute_input": "2025-06-12T11:45:15.755283Z",
     "iopub.status.busy": "2025-06-12T11:45:15.754960Z",
     "iopub.status.idle": "2025-06-12T11:45:19.211134Z",
     "shell.execute_reply": "2025-06-12T11:45:19.210003Z"
    },
    "papermill": {
     "duration": 3.463305,
     "end_time": "2025-06-12T11:45:19.212625",
     "exception": false,
     "start_time": "2025-06-12T11:45:15.749320",
     "status": "completed"
    },
    "tags": []
   },
   "outputs": [
    {
     "name": "stdout",
     "output_type": "stream",
     "text": [
      "/kaggle/input/ca-county-bounds/CA_county_boundaries.prj\n",
      "/kaggle/input/ca-county-bounds/CA_county_boundaries.dbf\n",
      "/kaggle/input/ca-county-bounds/CA_county_boundaries.shp\n",
      "/kaggle/input/ca-county-bounds/CA_county_boundaries.shx\n",
      "/kaggle/input/ca-county-bounds/CA_county_boundaries.cpg\n",
      "/kaggle/input/starbucks-locations/starbucks_locations.csv\n",
      "/kaggle/input/ca-county-general/CA_county_median_age.csv\n",
      "/kaggle/input/ca-county-general/CA_county_population.csv\n",
      "/kaggle/input/ca-county-general/CA_county_high_earners.csv\n"
     ]
    }
   ],
   "source": [
    "import math\n",
    "import pandas as pd\n",
    "import geopandas as gpd\n",
    "from geopy.geocoders import Nominatim\n",
    "# from learntools.geospatial.tools import Nominatim \n",
    "\n",
    "\n",
    "import folium \n",
    "from folium import Marker\n",
    "from folium.plugins import MarkerCluster\n",
    "\n",
    "import os\n",
    "for dirname, _, filenames in os.walk('/kaggle/input'):\n",
    "    for filename in filenames:\n",
    "        print(os.path.join(dirname, filename))\n"
   ]
  },
  {
   "cell_type": "markdown",
   "id": "d2e43bc8",
   "metadata": {
    "papermill": {
     "duration": 0.003083,
     "end_time": "2025-06-12T11:45:19.219609",
     "exception": false,
     "start_time": "2025-06-12T11:45:19.216526",
     "status": "completed"
    },
    "tags": []
   },
   "source": [
    "# Introduction\n",
    "\n",
    "This project involves investigating the demographics of various counties in the state of California, to determine potentially suitable locations for Starbucks Reserve Roasteries."
   ]
  },
  {
   "cell_type": "code",
   "execution_count": 2,
   "id": "8118ff8e",
   "metadata": {
    "execution": {
     "iopub.execute_input": "2025-06-12T11:45:19.228296Z",
     "iopub.status.busy": "2025-06-12T11:45:19.227250Z",
     "iopub.status.idle": "2025-06-12T11:45:19.231946Z",
     "shell.execute_reply": "2025-06-12T11:45:19.231267Z"
    },
    "papermill": {
     "duration": 0.010282,
     "end_time": "2025-06-12T11:45:19.233266",
     "exception": false,
     "start_time": "2025-06-12T11:45:19.222984",
     "status": "completed"
    },
    "tags": []
   },
   "outputs": [],
   "source": [
    "def embed_map(m, file_name):\n",
    "    from IPython.display import IFrame\n",
    "    m.save(file_name)\n",
    "    return IFrame(file_name, width='100%', height='500px')"
   ]
  },
  {
   "cell_type": "code",
   "execution_count": 3,
   "id": "306d3209",
   "metadata": {
    "execution": {
     "iopub.execute_input": "2025-06-12T11:45:19.241318Z",
     "iopub.status.busy": "2025-06-12T11:45:19.241073Z",
     "iopub.status.idle": "2025-06-12T11:45:19.291932Z",
     "shell.execute_reply": "2025-06-12T11:45:19.291018Z"
    },
    "papermill": {
     "duration": 0.056335,
     "end_time": "2025-06-12T11:45:19.293434",
     "exception": false,
     "start_time": "2025-06-12T11:45:19.237099",
     "status": "completed"
    },
    "tags": []
   },
   "outputs": [
    {
     "data": {
      "text/html": [
       "<div>\n",
       "<style scoped>\n",
       "    .dataframe tbody tr th:only-of-type {\n",
       "        vertical-align: middle;\n",
       "    }\n",
       "\n",
       "    .dataframe tbody tr th {\n",
       "        vertical-align: top;\n",
       "    }\n",
       "\n",
       "    .dataframe thead th {\n",
       "        text-align: right;\n",
       "    }\n",
       "</style>\n",
       "<table border=\"1\" class=\"dataframe\">\n",
       "  <thead>\n",
       "    <tr style=\"text-align: right;\">\n",
       "      <th></th>\n",
       "      <th>Store Number</th>\n",
       "      <th>Store Name</th>\n",
       "      <th>Address</th>\n",
       "      <th>City</th>\n",
       "      <th>Longitude</th>\n",
       "      <th>Latitude</th>\n",
       "    </tr>\n",
       "  </thead>\n",
       "  <tbody>\n",
       "    <tr>\n",
       "      <th>0</th>\n",
       "      <td>10429-100710</td>\n",
       "      <td>Palmdale &amp; Hwy 395</td>\n",
       "      <td>14136 US Hwy 395 Adelanto CA</td>\n",
       "      <td>Adelanto</td>\n",
       "      <td>-117.40</td>\n",
       "      <td>34.51</td>\n",
       "    </tr>\n",
       "    <tr>\n",
       "      <th>1</th>\n",
       "      <td>635-352</td>\n",
       "      <td>Kanan &amp; Thousand Oaks</td>\n",
       "      <td>5827 Kanan Road Agoura CA</td>\n",
       "      <td>Agoura</td>\n",
       "      <td>-118.76</td>\n",
       "      <td>34.16</td>\n",
       "    </tr>\n",
       "    <tr>\n",
       "      <th>2</th>\n",
       "      <td>74510-27669</td>\n",
       "      <td>Vons-Agoura Hills #2001</td>\n",
       "      <td>5671 Kanan Rd. Agoura Hills CA</td>\n",
       "      <td>Agoura Hills</td>\n",
       "      <td>-118.76</td>\n",
       "      <td>34.15</td>\n",
       "    </tr>\n",
       "    <tr>\n",
       "      <th>3</th>\n",
       "      <td>29839-255026</td>\n",
       "      <td>Target Anaheim T-0677</td>\n",
       "      <td>8148 E SANTA ANA CANYON ROAD AHAHEIM CA</td>\n",
       "      <td>AHAHEIM</td>\n",
       "      <td>-117.75</td>\n",
       "      <td>33.87</td>\n",
       "    </tr>\n",
       "    <tr>\n",
       "      <th>4</th>\n",
       "      <td>23463-230284</td>\n",
       "      <td>Safeway - Alameda 3281</td>\n",
       "      <td>2600 5th Street Alameda CA</td>\n",
       "      <td>Alameda</td>\n",
       "      <td>-122.28</td>\n",
       "      <td>37.79</td>\n",
       "    </tr>\n",
       "  </tbody>\n",
       "</table>\n",
       "</div>"
      ],
      "text/plain": [
       "   Store Number               Store Name  \\\n",
       "0  10429-100710       Palmdale & Hwy 395   \n",
       "1       635-352    Kanan & Thousand Oaks   \n",
       "2   74510-27669  Vons-Agoura Hills #2001   \n",
       "3  29839-255026    Target Anaheim T-0677   \n",
       "4  23463-230284   Safeway - Alameda 3281   \n",
       "\n",
       "                                   Address          City  Longitude  Latitude  \n",
       "0             14136 US Hwy 395 Adelanto CA      Adelanto    -117.40     34.51  \n",
       "1                5827 Kanan Road Agoura CA        Agoura    -118.76     34.16  \n",
       "2           5671 Kanan Rd. Agoura Hills CA  Agoura Hills    -118.76     34.15  \n",
       "3  8148 E SANTA ANA CANYON ROAD AHAHEIM CA       AHAHEIM    -117.75     33.87  \n",
       "4               2600 5th Street Alameda CA       Alameda    -122.28     37.79  "
      ]
     },
     "execution_count": 3,
     "metadata": {},
     "output_type": "execute_result"
    }
   ],
   "source": [
    "# Load and preview Starbucks locations in California\n",
    "starbucks = pd.read_csv('/kaggle/input/starbucks-locations/starbucks_locations.csv')\n",
    "starbucks.head()"
   ]
  },
  {
   "cell_type": "code",
   "execution_count": 4,
   "id": "0297187a",
   "metadata": {
    "execution": {
     "iopub.execute_input": "2025-06-12T11:45:19.302481Z",
     "iopub.status.busy": "2025-06-12T11:45:19.302178Z",
     "iopub.status.idle": "2025-06-12T11:45:19.326415Z",
     "shell.execute_reply": "2025-06-12T11:45:19.325484Z"
    },
    "papermill": {
     "duration": 0.030574,
     "end_time": "2025-06-12T11:45:19.328068",
     "exception": false,
     "start_time": "2025-06-12T11:45:19.297494",
     "status": "completed"
    },
    "tags": []
   },
   "outputs": [
    {
     "name": "stdout",
     "output_type": "stream",
     "text": [
      "Store Number    0\n",
      "Store Name      0\n",
      "Address         0\n",
      "City            0\n",
      "Longitude       5\n",
      "Latitude        5\n",
      "dtype: int64\n"
     ]
    },
    {
     "name": "stderr",
     "output_type": "stream",
     "text": [
      "/usr/local/lib/python3.11/dist-packages/pandas/io/formats/format.py:1458: RuntimeWarning: invalid value encountered in greater\n",
      "  has_large_values = (abs_vals > 1e6).any()\n",
      "/usr/local/lib/python3.11/dist-packages/pandas/io/formats/format.py:1459: RuntimeWarning: invalid value encountered in less\n",
      "  has_small_values = ((abs_vals < 10 ** (-self.digits)) & (abs_vals > 0)).any()\n",
      "/usr/local/lib/python3.11/dist-packages/pandas/io/formats/format.py:1459: RuntimeWarning: invalid value encountered in greater\n",
      "  has_small_values = ((abs_vals < 10 ** (-self.digits)) & (abs_vals > 0)).any()\n"
     ]
    },
    {
     "data": {
      "text/html": [
       "<div>\n",
       "<style scoped>\n",
       "    .dataframe tbody tr th:only-of-type {\n",
       "        vertical-align: middle;\n",
       "    }\n",
       "\n",
       "    .dataframe tbody tr th {\n",
       "        vertical-align: top;\n",
       "    }\n",
       "\n",
       "    .dataframe thead th {\n",
       "        text-align: right;\n",
       "    }\n",
       "</style>\n",
       "<table border=\"1\" class=\"dataframe\">\n",
       "  <thead>\n",
       "    <tr style=\"text-align: right;\">\n",
       "      <th></th>\n",
       "      <th>Store Number</th>\n",
       "      <th>Store Name</th>\n",
       "      <th>Address</th>\n",
       "      <th>City</th>\n",
       "      <th>Longitude</th>\n",
       "      <th>Latitude</th>\n",
       "    </tr>\n",
       "  </thead>\n",
       "  <tbody>\n",
       "    <tr>\n",
       "      <th>153</th>\n",
       "      <td>5406-945</td>\n",
       "      <td>2224 Shattuck - Berkeley</td>\n",
       "      <td>2224 Shattuck Avenue Berkeley CA</td>\n",
       "      <td>Berkeley</td>\n",
       "      <td>NaN</td>\n",
       "      <td>NaN</td>\n",
       "    </tr>\n",
       "    <tr>\n",
       "      <th>154</th>\n",
       "      <td>570-512</td>\n",
       "      <td>Solano Ave</td>\n",
       "      <td>1799 Solano Avenue Berkeley CA</td>\n",
       "      <td>Berkeley</td>\n",
       "      <td>NaN</td>\n",
       "      <td>NaN</td>\n",
       "    </tr>\n",
       "    <tr>\n",
       "      <th>155</th>\n",
       "      <td>17877-164526</td>\n",
       "      <td>Safeway - Berkeley #691</td>\n",
       "      <td>1444 Shattuck Place Berkeley CA</td>\n",
       "      <td>Berkeley</td>\n",
       "      <td>NaN</td>\n",
       "      <td>NaN</td>\n",
       "    </tr>\n",
       "    <tr>\n",
       "      <th>156</th>\n",
       "      <td>19864-202264</td>\n",
       "      <td>Telegraph &amp; Ashby</td>\n",
       "      <td>3001 Telegraph Avenue Berkeley CA</td>\n",
       "      <td>Berkeley</td>\n",
       "      <td>NaN</td>\n",
       "      <td>NaN</td>\n",
       "    </tr>\n",
       "    <tr>\n",
       "      <th>157</th>\n",
       "      <td>9217-9253</td>\n",
       "      <td>2128 Oxford St.</td>\n",
       "      <td>2128 Oxford Street Berkeley CA</td>\n",
       "      <td>Berkeley</td>\n",
       "      <td>NaN</td>\n",
       "      <td>NaN</td>\n",
       "    </tr>\n",
       "  </tbody>\n",
       "</table>\n",
       "</div>"
      ],
      "text/plain": [
       "     Store Number                Store Name  \\\n",
       "153      5406-945  2224 Shattuck - Berkeley   \n",
       "154       570-512                Solano Ave   \n",
       "155  17877-164526   Safeway - Berkeley #691   \n",
       "156  19864-202264         Telegraph & Ashby   \n",
       "157     9217-9253           2128 Oxford St.   \n",
       "\n",
       "                               Address      City  Longitude  Latitude  \n",
       "153   2224 Shattuck Avenue Berkeley CA  Berkeley        NaN       NaN  \n",
       "154     1799 Solano Avenue Berkeley CA  Berkeley        NaN       NaN  \n",
       "155    1444 Shattuck Place Berkeley CA  Berkeley        NaN       NaN  \n",
       "156  3001 Telegraph Avenue Berkeley CA  Berkeley        NaN       NaN  \n",
       "157     2128 Oxford Street Berkeley CA  Berkeley        NaN       NaN  "
      ]
     },
     "execution_count": 4,
     "metadata": {},
     "output_type": "execute_result"
    }
   ],
   "source": [
    "print(starbucks.isnull().sum())\n",
    "\n",
    "# View rows with missing locations\n",
    "rows_with_missing = starbucks[starbucks[\"City\"]==\"Berkeley\"]\n",
    "rows_with_missing"
   ]
  },
  {
   "cell_type": "code",
   "execution_count": 5,
   "id": "33e626d5",
   "metadata": {
    "execution": {
     "iopub.execute_input": "2025-06-12T11:45:19.337754Z",
     "iopub.status.busy": "2025-06-12T11:45:19.337458Z",
     "iopub.status.idle": "2025-06-12T11:45:26.033573Z",
     "shell.execute_reply": "2025-06-12T11:45:26.032657Z"
    },
    "papermill": {
     "duration": 6.702806,
     "end_time": "2025-06-12T11:45:26.035112",
     "exception": false,
     "start_time": "2025-06-12T11:45:19.332306",
     "status": "completed"
    },
    "tags": []
   },
   "outputs": [
    {
     "data": {
      "text/html": [
       "<div>\n",
       "<style scoped>\n",
       "    .dataframe tbody tr th:only-of-type {\n",
       "        vertical-align: middle;\n",
       "    }\n",
       "\n",
       "    .dataframe tbody tr th {\n",
       "        vertical-align: top;\n",
       "    }\n",
       "\n",
       "    .dataframe thead th {\n",
       "        text-align: right;\n",
       "    }\n",
       "</style>\n",
       "<table border=\"1\" class=\"dataframe\">\n",
       "  <thead>\n",
       "    <tr style=\"text-align: right;\">\n",
       "      <th></th>\n",
       "      <th>Store Number</th>\n",
       "      <th>Store Name</th>\n",
       "      <th>Address</th>\n",
       "      <th>City</th>\n",
       "      <th>Longitude</th>\n",
       "      <th>Latitude</th>\n",
       "    </tr>\n",
       "  </thead>\n",
       "  <tbody>\n",
       "    <tr>\n",
       "      <th>153</th>\n",
       "      <td>5406-945</td>\n",
       "      <td>2224 Shattuck - Berkeley</td>\n",
       "      <td>2224 Shattuck Avenue Berkeley CA</td>\n",
       "      <td>Berkeley</td>\n",
       "      <td>-122.268230</td>\n",
       "      <td>37.868839</td>\n",
       "    </tr>\n",
       "    <tr>\n",
       "      <th>154</th>\n",
       "      <td>570-512</td>\n",
       "      <td>Solano Ave</td>\n",
       "      <td>1799 Solano Avenue Berkeley CA</td>\n",
       "      <td>Berkeley</td>\n",
       "      <td>-122.280013</td>\n",
       "      <td>37.891477</td>\n",
       "    </tr>\n",
       "    <tr>\n",
       "      <th>155</th>\n",
       "      <td>17877-164526</td>\n",
       "      <td>Safeway - Berkeley #691</td>\n",
       "      <td>1444 Shattuck Place Berkeley CA</td>\n",
       "      <td>Berkeley</td>\n",
       "      <td>-122.269679</td>\n",
       "      <td>37.880907</td>\n",
       "    </tr>\n",
       "    <tr>\n",
       "      <th>156</th>\n",
       "      <td>19864-202264</td>\n",
       "      <td>Telegraph &amp; Ashby</td>\n",
       "      <td>3001 Telegraph Avenue Berkeley CA</td>\n",
       "      <td>Berkeley</td>\n",
       "      <td>-122.259406</td>\n",
       "      <td>37.855903</td>\n",
       "    </tr>\n",
       "    <tr>\n",
       "      <th>157</th>\n",
       "      <td>9217-9253</td>\n",
       "      <td>2128 Oxford St.</td>\n",
       "      <td>2128 Oxford Street Berkeley CA</td>\n",
       "      <td>Berkeley</td>\n",
       "      <td>-122.266095</td>\n",
       "      <td>37.870253</td>\n",
       "    </tr>\n",
       "  </tbody>\n",
       "</table>\n",
       "</div>"
      ],
      "text/plain": [
       "     Store Number                Store Name  \\\n",
       "153      5406-945  2224 Shattuck - Berkeley   \n",
       "154       570-512                Solano Ave   \n",
       "155  17877-164526   Safeway - Berkeley #691   \n",
       "156  19864-202264         Telegraph & Ashby   \n",
       "157     9217-9253           2128 Oxford St.   \n",
       "\n",
       "                               Address      City   Longitude   Latitude  \n",
       "153   2224 Shattuck Avenue Berkeley CA  Berkeley -122.268230  37.868839  \n",
       "154     1799 Solano Avenue Berkeley CA  Berkeley -122.280013  37.891477  \n",
       "155    1444 Shattuck Place Berkeley CA  Berkeley -122.269679  37.880907  \n",
       "156  3001 Telegraph Avenue Berkeley CA  Berkeley -122.259406  37.855903  \n",
       "157     2128 Oxford Street Berkeley CA  Berkeley -122.266095  37.870253  "
      ]
     },
     "execution_count": 5,
     "metadata": {},
     "output_type": "execute_result"
    }
   ],
   "source": [
    "# Create the geocoder\n",
    "geolocator = Nominatim(user_agent=\"kaggle_learn\")\n",
    "\n",
    "\n",
    "def geocoder(row):\n",
    "    try:\n",
    "        point = geolocator.geocode(row).point\n",
    "        return pd.Series({'Latitude': point.latitude, 'Longitude': point.longitude})\n",
    "    except:\n",
    "        return None\n",
    "\n",
    "berkeley_locations = rows_with_missing.apply(lambda x: geocoder(x['Address']), axis=1)\n",
    "starbucks.update(berkeley_locations)\n",
    "starbucks[starbucks[\"City\"]==\"Berkeley\"]"
   ]
  },
  {
   "cell_type": "code",
   "execution_count": 6,
   "id": "7b7dd581",
   "metadata": {
    "execution": {
     "iopub.execute_input": "2025-06-12T11:45:26.044925Z",
     "iopub.status.busy": "2025-06-12T11:45:26.044595Z",
     "iopub.status.idle": "2025-06-12T11:45:26.064735Z",
     "shell.execute_reply": "2025-06-12T11:45:26.063909Z"
    },
    "papermill": {
     "duration": 0.026792,
     "end_time": "2025-06-12T11:45:26.066259",
     "exception": false,
     "start_time": "2025-06-12T11:45:26.039467",
     "status": "completed"
    },
    "tags": []
   },
   "outputs": [
    {
     "data": {
      "text/html": [
       "\n",
       "        <iframe\n",
       "            width=\"100%\"\n",
       "            height=\"500px\"\n",
       "            src=\"q_2.html\"\n",
       "            frameborder=\"0\"\n",
       "            allowfullscreen\n",
       "            \n",
       "        ></iframe>\n",
       "        "
      ],
      "text/plain": [
       "<IPython.lib.display.IFrame at 0x786784090490>"
      ]
     },
     "execution_count": 6,
     "metadata": {},
     "output_type": "execute_result"
    }
   ],
   "source": [
    "# Create a base map\n",
    "m_2 = folium.Map(location=[37.88,-122.26], zoom_start=13)\n",
    "\n",
    "# Your code here: Add a marker for each Berkeley location\n",
    "for idx, row in starbucks[starbucks[\"City\"]=='Berkeley'].iterrows():\n",
    "    Marker([row['Latitude'], row['Longitude']]).add_to(m_2)\n",
    "\n",
    "# Show the map\n",
    "embed_map(m_2, 'q_2.html')"
   ]
  },
  {
   "cell_type": "code",
   "execution_count": 7,
   "id": "4ac5a73e",
   "metadata": {
    "execution": {
     "iopub.execute_input": "2025-06-12T11:45:26.076504Z",
     "iopub.status.busy": "2025-06-12T11:45:26.075760Z",
     "iopub.status.idle": "2025-06-12T11:45:27.328330Z",
     "shell.execute_reply": "2025-06-12T11:45:27.327341Z"
    },
    "papermill": {
     "duration": 1.259321,
     "end_time": "2025-06-12T11:45:27.330089",
     "exception": false,
     "start_time": "2025-06-12T11:45:26.070768",
     "status": "completed"
    },
    "tags": []
   },
   "outputs": [
    {
     "name": "stderr",
     "output_type": "stream",
     "text": [
      "/usr/local/lib/python3.11/dist-packages/pyproj/crs/crs.py:143: FutureWarning: '+init=<authority>:<code>' syntax is deprecated. '<authority>:<code>' is the preferred initialization method. When making the change, be mindful of axis order changes: https://pyproj4.github.io/pyproj/stable/gotchas.html#axis-order-changes-in-proj-6\n",
      "  in_crs_string = _prepare_from_proj_string(in_crs_string)\n"
     ]
    },
    {
     "data": {
      "text/html": [
       "<div>\n",
       "<style scoped>\n",
       "    .dataframe tbody tr th:only-of-type {\n",
       "        vertical-align: middle;\n",
       "    }\n",
       "\n",
       "    .dataframe tbody tr th {\n",
       "        vertical-align: top;\n",
       "    }\n",
       "\n",
       "    .dataframe thead th {\n",
       "        text-align: right;\n",
       "    }\n",
       "</style>\n",
       "<table border=\"1\" class=\"dataframe\">\n",
       "  <thead>\n",
       "    <tr style=\"text-align: right;\">\n",
       "      <th></th>\n",
       "      <th>GEOID</th>\n",
       "      <th>name</th>\n",
       "      <th>area_sqkm</th>\n",
       "      <th>geometry</th>\n",
       "    </tr>\n",
       "  </thead>\n",
       "  <tbody>\n",
       "    <tr>\n",
       "      <th>0</th>\n",
       "      <td>6091</td>\n",
       "      <td>Sierra County</td>\n",
       "      <td>2491.995494</td>\n",
       "      <td>POLYGON ((-120.65560 39.69357, -120.65554 39.6...</td>\n",
       "    </tr>\n",
       "    <tr>\n",
       "      <th>1</th>\n",
       "      <td>6067</td>\n",
       "      <td>Sacramento County</td>\n",
       "      <td>2575.258262</td>\n",
       "      <td>POLYGON ((-121.18858 38.71431, -121.18732 38.7...</td>\n",
       "    </tr>\n",
       "    <tr>\n",
       "      <th>2</th>\n",
       "      <td>6083</td>\n",
       "      <td>Santa Barbara County</td>\n",
       "      <td>9813.817958</td>\n",
       "      <td>MULTIPOLYGON (((-120.58191 34.09856, -120.5822...</td>\n",
       "    </tr>\n",
       "    <tr>\n",
       "      <th>3</th>\n",
       "      <td>6009</td>\n",
       "      <td>Calaveras County</td>\n",
       "      <td>2685.626726</td>\n",
       "      <td>POLYGON ((-120.63095 38.34111, -120.63058 38.3...</td>\n",
       "    </tr>\n",
       "    <tr>\n",
       "      <th>4</th>\n",
       "      <td>6111</td>\n",
       "      <td>Ventura County</td>\n",
       "      <td>5719.321379</td>\n",
       "      <td>MULTIPOLYGON (((-119.63631 33.27304, -119.6360...</td>\n",
       "    </tr>\n",
       "  </tbody>\n",
       "</table>\n",
       "</div>"
      ],
      "text/plain": [
       "   GEOID                  name    area_sqkm  \\\n",
       "0   6091         Sierra County  2491.995494   \n",
       "1   6067     Sacramento County  2575.258262   \n",
       "2   6083  Santa Barbara County  9813.817958   \n",
       "3   6009      Calaveras County  2685.626726   \n",
       "4   6111        Ventura County  5719.321379   \n",
       "\n",
       "                                            geometry  \n",
       "0  POLYGON ((-120.65560 39.69357, -120.65554 39.6...  \n",
       "1  POLYGON ((-121.18858 38.71431, -121.18732 38.7...  \n",
       "2  MULTIPOLYGON (((-120.58191 34.09856, -120.5822...  \n",
       "3  POLYGON ((-120.63095 38.34111, -120.63058 38.3...  \n",
       "4  MULTIPOLYGON (((-119.63631 33.27304, -119.6360...  "
      ]
     },
     "execution_count": 7,
     "metadata": {},
     "output_type": "execute_result"
    }
   ],
   "source": [
    "CA_counties = gpd.read_file(\"/kaggle/input/ca-county-bounds/CA_county_boundaries.shp\")\n",
    "CA_counties.crs = {'init': 'epsg:4326'}\n",
    "CA_counties.head()"
   ]
  },
  {
   "cell_type": "markdown",
   "id": "3df7c3ca",
   "metadata": {
    "papermill": {
     "duration": 0.004422,
     "end_time": "2025-06-12T11:45:27.339243",
     "exception": false,
     "start_time": "2025-06-12T11:45:27.334821",
     "status": "completed"
    },
    "tags": []
   },
   "source": [
    "- `CA_pop` contains an estimate of the population of each county.\n",
    "- `CA_high_earners` contains the number of households with an income of at least $150,000 per year.\n",
    "- `CA_median_age` contains the median age for each county."
   ]
  },
  {
   "cell_type": "code",
   "execution_count": 8,
   "id": "8b25adcc",
   "metadata": {
    "execution": {
     "iopub.execute_input": "2025-06-12T11:45:27.349902Z",
     "iopub.status.busy": "2025-06-12T11:45:27.348954Z",
     "iopub.status.idle": "2025-06-12T11:45:27.375667Z",
     "shell.execute_reply": "2025-06-12T11:45:27.374928Z"
    },
    "papermill": {
     "duration": 0.033526,
     "end_time": "2025-06-12T11:45:27.377307",
     "exception": false,
     "start_time": "2025-06-12T11:45:27.343781",
     "status": "completed"
    },
    "tags": []
   },
   "outputs": [],
   "source": [
    "CA_pop = pd.read_csv(\"/kaggle/input/ca-county-general/CA_county_population.csv\", index_col=\"GEOID\")\n",
    "CA_high_earners = pd.read_csv(\"/kaggle/input/ca-county-general/CA_county_high_earners.csv\", index_col=\"GEOID\")\n",
    "CA_median_age = pd.read_csv(\"/kaggle/input/ca-county-general/CA_county_median_age.csv\", index_col=\"GEOID\")"
   ]
  },
  {
   "cell_type": "code",
   "execution_count": 9,
   "id": "0f8d26b6",
   "metadata": {
    "execution": {
     "iopub.execute_input": "2025-06-12T11:45:27.388403Z",
     "iopub.status.busy": "2025-06-12T11:45:27.387603Z",
     "iopub.status.idle": "2025-06-12T11:45:27.404222Z",
     "shell.execute_reply": "2025-06-12T11:45:27.403216Z"
    },
    "papermill": {
     "duration": 0.023645,
     "end_time": "2025-06-12T11:45:27.405723",
     "exception": false,
     "start_time": "2025-06-12T11:45:27.382078",
     "status": "completed"
    },
    "tags": []
   },
   "outputs": [],
   "source": [
    "# Join `CA_counties` with `CA_pop`, `CA_high_earners`, and `CA_median_age`.\n",
    "cols_to_add = CA_pop.join([CA_high_earners, CA_median_age]).reset_index()\n",
    "CA_stats = CA_counties.merge(cols_to_add, on=\"GEOID\")"
   ]
  },
  {
   "cell_type": "code",
   "execution_count": 10,
   "id": "0be8d745",
   "metadata": {
    "execution": {
     "iopub.execute_input": "2025-06-12T11:45:27.416183Z",
     "iopub.status.busy": "2025-06-12T11:45:27.415501Z",
     "iopub.status.idle": "2025-06-12T11:45:27.420571Z",
     "shell.execute_reply": "2025-06-12T11:45:27.419898Z"
    },
    "papermill": {
     "duration": 0.011598,
     "end_time": "2025-06-12T11:45:27.421937",
     "exception": false,
     "start_time": "2025-06-12T11:45:27.410339",
     "status": "completed"
    },
    "tags": []
   },
   "outputs": [],
   "source": [
    "# Create a \"density\" column with the population density.\n",
    "CA_stats[\"density\"] = CA_stats[\"population\"] / CA_stats[\"area_sqkm\"]"
   ]
  },
  {
   "cell_type": "markdown",
   "id": "4e6916e3",
   "metadata": {
    "papermill": {
     "duration": 0.004272,
     "end_time": "2025-06-12T11:45:27.430905",
     "exception": false,
     "start_time": "2025-06-12T11:45:27.426633",
     "status": "completed"
    },
    "tags": []
   },
   "source": [
    "Select counties where:\n",
    "- there are at least 100,000 households making \\$150,000 per year,\n",
    "- the median age is less than 38.5, and\n",
    "- the density of inhabitants is at least 285 (per square kilometer).\n",
    "\n",
    "Additionally, selected counties should satisfy at least one of the following criteria:\n",
    "- there are at least 500,000 households making \\$150,000 per year,\n",
    "- the median age is less than 35.5, or\n",
    "- the density of inhabitants is at least 1400 (per square kilometer)."
   ]
  },
  {
   "cell_type": "code",
   "execution_count": 11,
   "id": "348c9923",
   "metadata": {
    "execution": {
     "iopub.execute_input": "2025-06-12T11:45:27.440814Z",
     "iopub.status.busy": "2025-06-12T11:45:27.440493Z",
     "iopub.status.idle": "2025-06-12T11:45:27.448272Z",
     "shell.execute_reply": "2025-06-12T11:45:27.447355Z"
    },
    "papermill": {
     "duration": 0.014532,
     "end_time": "2025-06-12T11:45:27.449770",
     "exception": false,
     "start_time": "2025-06-12T11:45:27.435238",
     "status": "completed"
    },
    "tags": []
   },
   "outputs": [],
   "source": [
    "sel_counties = sel_counties = CA_stats[((CA_stats.high_earners > 100000) &\n",
    "                         (CA_stats.median_age < 38.5) &\n",
    "                         (CA_stats.density > 285) &\n",
    "                         ((CA_stats.median_age < 35.5) |\n",
    "                         (CA_stats.density > 1400) |\n",
    "                         (CA_stats.high_earners > 500000)))]"
   ]
  },
  {
   "cell_type": "code",
   "execution_count": 12,
   "id": "6df1e5ea",
   "metadata": {
    "execution": {
     "iopub.execute_input": "2025-06-12T11:45:27.459966Z",
     "iopub.status.busy": "2025-06-12T11:45:27.459635Z",
     "iopub.status.idle": "2025-06-12T11:45:27.468471Z",
     "shell.execute_reply": "2025-06-12T11:45:27.467478Z"
    },
    "papermill": {
     "duration": 0.01553,
     "end_time": "2025-06-12T11:45:27.469964",
     "exception": false,
     "start_time": "2025-06-12T11:45:27.454434",
     "status": "completed"
    },
    "tags": []
   },
   "outputs": [
    {
     "name": "stderr",
     "output_type": "stream",
     "text": [
      "/usr/local/lib/python3.11/dist-packages/pyproj/crs/crs.py:143: FutureWarning: '+init=<authority>:<code>' syntax is deprecated. '<authority>:<code>' is the preferred initialization method. When making the change, be mindful of axis order changes: https://pyproj4.github.io/pyproj/stable/gotchas.html#axis-order-changes-in-proj-6\n",
      "  in_crs_string = _prepare_from_proj_string(in_crs_string)\n"
     ]
    }
   ],
   "source": [
    "starbucks_gdf = gpd.GeoDataFrame(starbucks, geometry=gpd.points_from_xy(starbucks.Longitude, starbucks.Latitude))\n",
    "starbucks_gdf.crs = {'init': 'epsg:4326'}"
   ]
  },
  {
   "cell_type": "code",
   "execution_count": 13,
   "id": "dfa7aa9c",
   "metadata": {
    "execution": {
     "iopub.execute_input": "2025-06-12T11:45:27.481172Z",
     "iopub.status.busy": "2025-06-12T11:45:27.480381Z",
     "iopub.status.idle": "2025-06-12T11:45:27.556253Z",
     "shell.execute_reply": "2025-06-12T11:45:27.555166Z"
    },
    "papermill": {
     "duration": 0.083391,
     "end_time": "2025-06-12T11:45:27.557936",
     "exception": false,
     "start_time": "2025-06-12T11:45:27.474545",
     "status": "completed"
    },
    "tags": []
   },
   "outputs": [],
   "source": [
    "locations_of_interest = gpd.sjoin(starbucks_gdf, sel_counties)\n",
    "num_stores = len(locations_of_interest)"
   ]
  },
  {
   "cell_type": "markdown",
   "id": "569d4516",
   "metadata": {
    "papermill": {
     "duration": 0.00444,
     "end_time": "2025-06-12T11:45:27.567112",
     "exception": false,
     "start_time": "2025-06-12T11:45:27.562672",
     "status": "completed"
    },
    "tags": []
   },
   "source": [
    "### Visualize the possible locations for the New store"
   ]
  },
  {
   "cell_type": "code",
   "execution_count": 14,
   "id": "2d50287e",
   "metadata": {
    "execution": {
     "iopub.execute_input": "2025-06-12T11:45:27.577621Z",
     "iopub.status.busy": "2025-06-12T11:45:27.577079Z",
     "iopub.status.idle": "2025-06-12T11:45:28.126260Z",
     "shell.execute_reply": "2025-06-12T11:45:28.125422Z"
    },
    "papermill": {
     "duration": 0.556008,
     "end_time": "2025-06-12T11:45:28.127610",
     "exception": false,
     "start_time": "2025-06-12T11:45:27.571602",
     "status": "completed"
    },
    "tags": []
   },
   "outputs": [
    {
     "data": {
      "text/html": [
       "\n",
       "        <iframe\n",
       "            width=\"100%\"\n",
       "            height=\"500px\"\n",
       "            src=\"q_6.html\"\n",
       "            frameborder=\"0\"\n",
       "            allowfullscreen\n",
       "            \n",
       "        ></iframe>\n",
       "        "
      ],
      "text/plain": [
       "<IPython.lib.display.IFrame at 0x78677179d2d0>"
      ]
     },
     "execution_count": 14,
     "metadata": {},
     "output_type": "execute_result"
    }
   ],
   "source": [
    "# Create a base map\n",
    "m_6 = folium.Map(location=[37,-120], zoom_start=6)\n",
    "\n",
    "# Show selected store locations\n",
    "mc = MarkerCluster()\n",
    "\n",
    "locations_of_interest = gpd.sjoin(starbucks_gdf, sel_counties)\n",
    "for idx, row in locations_of_interest.iterrows():\n",
    "    if not math.isnan(row['Longitude']) and not math.isnan(row['Latitude']):\n",
    "        mc.add_child(folium.Marker([row['Latitude'], row['Longitude']]))\n",
    "        \n",
    "m_6.add_child(mc)\n",
    "\n",
    "# Show the map\n",
    "embed_map(m_6, 'q_6.html')"
   ]
  },
  {
   "cell_type": "code",
   "execution_count": 15,
   "id": "12b84b7a",
   "metadata": {
    "execution": {
     "iopub.execute_input": "2025-06-12T11:45:28.138110Z",
     "iopub.status.busy": "2025-06-12T11:45:28.137784Z",
     "iopub.status.idle": "2025-06-12T11:45:28.597198Z",
     "shell.execute_reply": "2025-06-12T11:45:28.596300Z"
    },
    "papermill": {
     "duration": 0.466472,
     "end_time": "2025-06-12T11:45:28.598898",
     "exception": false,
     "start_time": "2025-06-12T11:45:28.132426",
     "status": "completed"
    },
    "tags": []
   },
   "outputs": [],
   "source": [
    "m_2.save(\"berkeley-locations.html\")\n",
    "m_6.save(\"possible-locations.html\")"
   ]
  }
 ],
 "metadata": {
  "kaggle": {
   "accelerator": "none",
   "dataSources": [
    {
     "datasetId": 7626135,
     "sourceId": 12112460,
     "sourceType": "datasetVersion"
    },
    {
     "datasetId": 7626146,
     "sourceId": 12112481,
     "sourceType": "datasetVersion"
    },
    {
     "datasetId": 7645379,
     "sourceId": 12139724,
     "sourceType": "datasetVersion"
    }
   ],
   "dockerImageVersionId": 31040,
   "isGpuEnabled": false,
   "isInternetEnabled": true,
   "language": "python",
   "sourceType": "notebook"
  },
  "kernelspec": {
   "display_name": "Python 3",
   "language": "python",
   "name": "python3"
  },
  "language_info": {
   "codemirror_mode": {
    "name": "ipython",
    "version": 3
   },
   "file_extension": ".py",
   "mimetype": "text/x-python",
   "name": "python",
   "nbconvert_exporter": "python",
   "pygments_lexer": "ipython3",
   "version": "3.11.11"
  },
  "papermill": {
   "default_parameters": {},
   "duration": 18.519406,
   "end_time": "2025-06-12T11:45:29.324547",
   "environment_variables": {},
   "exception": null,
   "input_path": "__notebook__.ipynb",
   "output_path": "__notebook__.ipynb",
   "parameters": {},
   "start_time": "2025-06-12T11:45:10.805141",
   "version": "2.6.0"
  }
 },
 "nbformat": 4,
 "nbformat_minor": 5
}
